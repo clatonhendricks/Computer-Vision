{
  "nbformat": 4,
  "nbformat_minor": 0,
  "metadata": {
    "colab": {
      "name": "cifar10.ipynb",
      "provenance": [],
      "collapsed_sections": [],
      "toc_visible": true,
      "authorship_tag": "ABX9TyONH/l876s+/YrJEZpXb2EE",
      "include_colab_link": true
    },
    "kernelspec": {
      "name": "python3",
      "display_name": "Python 3"
    },
    "language_info": {
      "name": "python"
    },
    "accelerator": "GPU"
  },
  "cells": [
    {
      "cell_type": "markdown",
      "metadata": {
        "id": "view-in-github",
        "colab_type": "text"
      },
      "source": [
        "<a href=\"https://colab.research.google.com/github/clatonhendricks/Computer-Vision/blob/main/TF-Keras/cifar10.ipynb\" target=\"_parent\"><img src=\"https://colab.research.google.com/assets/colab-badge.svg\" alt=\"Open In Colab\"/></a>"
      ]
    },
    {
      "cell_type": "code",
      "execution_count": null,
      "metadata": {
        "id": "49_cbjwXH2Qj"
      },
      "outputs": [],
      "source": [
        "import tensorflow as tf\n",
        "from tensorflow import keras\n",
        "import tensorflow.keras.datasets as kfdatasets\n",
        "from sklearn.preprocessing import LabelBinarizer\n",
        "\n",
        "import numpy as np"
      ]
    },
    {
      "cell_type": "code",
      "source": [
        "tf.__version__"
      ],
      "metadata": {
        "colab": {
          "base_uri": "https://localhost:8080/",
          "height": 35
        },
        "id": "W0r7C7IaIN7e",
        "outputId": "30199b12-dbe5-4793-b50a-2917b049ebad"
      },
      "execution_count": null,
      "outputs": [
        {
          "output_type": "execute_result",
          "data": {
            "application/vnd.google.colaboratory.intrinsic+json": {
              "type": "string"
            },
            "text/plain": [
              "'2.8.0'"
            ]
          },
          "metadata": {},
          "execution_count": 2
        }
      ]
    },
    {
      "cell_type": "markdown",
      "source": [
        "# Download the Cifar10 dataset"
      ],
      "metadata": {
        "id": "h2DPBaZTTxCz"
      }
    },
    {
      "cell_type": "code",
      "source": [
        "(x_train, y_train), (x_test, y_test)  = kfdatasets.cifar10.load_data()\n",
        "(x_train.shape),(y_train.shape),(x_test.shape) ,(y_test.shape)  \n"
      ],
      "metadata": {
        "colab": {
          "base_uri": "https://localhost:8080/"
        },
        "id": "y1DWIUyKITYQ",
        "outputId": "9f883ee9-1ee5-4b61-ea7f-0cbab57d2621"
      },
      "execution_count": null,
      "outputs": [
        {
          "output_type": "stream",
          "name": "stdout",
          "text": [
            "Downloading data from https://www.cs.toronto.edu/~kriz/cifar-10-python.tar.gz\n",
            "170500096/170498071 [==============================] - 11s 0us/step\n",
            "170508288/170498071 [==============================] - 11s 0us/step\n"
          ]
        },
        {
          "output_type": "execute_result",
          "data": {
            "text/plain": [
              "((50000, 32, 32, 3), (50000, 1), (10000, 32, 32, 3), (10000, 1))"
            ]
          },
          "metadata": {},
          "execution_count": 3
        }
      ]
    },
    {
      "cell_type": "markdown",
      "source": [
        "# Preprocess the data\n",
        "\n",
        "*   Change to float\n",
        "*   Hot encoding for labels\n",
        "*   Spilt into validation sets and labels\n",
        "\n"
      ],
      "metadata": {
        "id": "L0Fq6QTMT6EQ"
      }
    },
    {
      "cell_type": "code",
      "source": [
        "#change to float\n",
        "x_train = x_train.astype('float')/255\n",
        "x_test = x_test.astype('float')/255\n",
        "\n",
        "print(\"INFO: shape of the data:\")\n",
        "print((x_train.shape), (x_test.shape))\n",
        "\n",
        "#convert integers to labels\n",
        "lb = LabelBinarizer()\n",
        "y_train = lb.fit_transform(y_train)\n",
        "y_test = lb.fit_transform(y_test)\n",
        "\n",
        "#split into validations\n",
        "x_train, val_images = x_train[10000:], x_train[:10000]\n",
        "y_train, val_labels = y_train[10000:], y_train[:10000]\n",
        "\n",
        "print(\"INFO: Shape of the train and validation split:\")\n",
        "(x_train.shape),(y_train.shape),(val_images.shape), (val_labels.shape)"
      ],
      "metadata": {
        "id": "G46ijwQaIXxI",
        "colab": {
          "base_uri": "https://localhost:8080/"
        },
        "outputId": "661721c1-b951-4b43-975b-5bdff66529cf"
      },
      "execution_count": null,
      "outputs": [
        {
          "output_type": "stream",
          "name": "stdout",
          "text": [
            "INFO: shape of the data:\n",
            "(50000, 32, 32, 3) (10000, 32, 32, 3)\n",
            "INFO: Shape of the train and validation split\n"
          ]
        },
        {
          "output_type": "execute_result",
          "data": {
            "text/plain": [
              "((40000, 32, 32, 3), (40000, 10), (10000, 32, 32, 3), (10000, 10))"
            ]
          },
          "metadata": {},
          "execution_count": 4
        }
      ]
    },
    {
      "cell_type": "markdown",
      "source": [
        "# Sample MiniVGGNet model"
      ],
      "metadata": {
        "id": "jslErJb_U6jS"
      }
    },
    {
      "cell_type": "code",
      "source": [
        "from tensorflow.keras.models import Sequential\n",
        "from tensorflow.keras.layers import BatchNormalization\n",
        "from tensorflow.keras.layers import Conv2D\n",
        "from tensorflow.keras.layers import MaxPooling2D\n",
        "from tensorflow.keras.layers import Activation\n",
        "from tensorflow.keras.layers import Flatten\n",
        "from tensorflow.keras.layers import Dropout\n",
        "from tensorflow.keras.layers import Dense\n",
        "from tensorflow.keras import backend as K\n",
        "\n",
        "class MiniVGGNet:\n",
        "    @staticmethod\n",
        "    def build(width, height, depth, classes):\n",
        "        # initialize the model along with the input shape to be\n",
        "        # \"channels last\" and the channels dimension itself\n",
        "        model = Sequential()\n",
        "        inputShape = (height, width, depth)\n",
        "        chanDim = -1\n",
        "        # if we are using \"channels first\", update the input shape\n",
        "        # and channels dimension\n",
        "        if K.image_data_format() == \"channels_first\":\n",
        "            inputShape = (depth, height, width)\n",
        "            chanDim = 1\n",
        "        \n",
        "\t\t# first CONV => RELU => CONV => RELU => POOL layer set\n",
        "        model.add(Conv2D(32, (3, 3), padding=\"same\",\n",
        "            input_shape=inputShape))\n",
        "        model.add(Activation(\"relu\"))\n",
        "        model.add(BatchNormalization(axis=chanDim))\n",
        "        model.add(Conv2D(32, (3, 3), padding=\"same\"))\n",
        "        model.add(Activation(\"relu\"))\n",
        "        model.add(BatchNormalization(axis=chanDim))\n",
        "        model.add(MaxPooling2D(pool_size=(2, 2)))\n",
        "        model.add(Dropout(0.25))\n",
        "        \n",
        "\t   # second CONV => RELU => CONV => RELU => POOL layer set\n",
        "        model.add(Conv2D(64, (3, 3), padding=\"same\"))\n",
        "        model.add(Activation(\"relu\"))\n",
        "        model.add(BatchNormalization(axis=chanDim))\n",
        "        model.add(Conv2D(64, (3, 3), padding=\"same\"))\n",
        "        model.add(Activation(\"relu\"))\n",
        "        model.add(BatchNormalization(axis=chanDim))\n",
        "        model.add(MaxPooling2D(pool_size=(2, 2)))\n",
        "        model.add(Dropout(0.25))\n",
        "\n",
        "        # first (and only) set of FC => RELU layers\n",
        "        model.add(Flatten())\n",
        "        model.add(Dense(512))\n",
        "        model.add(Activation(\"relu\"))\n",
        "        model.add(BatchNormalization())\n",
        "        model.add(Dropout(0.5))\n",
        "        # softmax classifier\n",
        "        model.add(Dense(classes))\n",
        "        model.add(Activation(\"softmax\"))\n",
        "        # return the constructed network architecture\n",
        "        return model\n"
      ],
      "metadata": {
        "id": "ranzPRAAoLmT"
      },
      "execution_count": null,
      "outputs": []
    },
    {
      "cell_type": "code",
      "source": [
        "# create the model\n",
        "\n",
        "def get_cifar_model():\n",
        "    input = keras.Input(shape=(32*32*3,))\n",
        "    features = keras.layers.Dense(512,activation='relu')(input)\n",
        "    features = keras.layers.Dropout(0.5)(features)\n",
        "    features = keras.layers.Dense(256,activation='relu')(features)\n",
        "    features = keras.layers.Dropout(0.5)(features)\n",
        "    outputs = keras.layers.Dense(10, activation='softmax')(features)\n",
        "\n",
        "    model = keras.Model(input, outputs)\n",
        "\n",
        "    return model\n",
        "\n",
        "model = get_cifar_model()\n",
        "\n"
      ],
      "metadata": {
        "id": "TKSJN-GbWgTN"
      },
      "execution_count": null,
      "outputs": []
    },
    {
      "cell_type": "markdown",
      "source": [
        "# Build model & compile"
      ],
      "metadata": {
        "id": "7lRBCDJ9bJda"
      }
    },
    {
      "cell_type": "code",
      "source": [
        "# using customVGGnet\n",
        "\n",
        "model = MiniVGGNet.build(32,32,3,10)\n",
        "model.summary()\n"
      ],
      "metadata": {
        "id": "rUrSkynAoy9R",
        "colab": {
          "base_uri": "https://localhost:8080/"
        },
        "outputId": "261b7296-e58b-429d-ba5b-0408f243c8ca"
      },
      "execution_count": null,
      "outputs": [
        {
          "output_type": "stream",
          "name": "stdout",
          "text": [
            "Model: \"sequential\"\n",
            "_________________________________________________________________\n",
            " Layer (type)                Output Shape              Param #   \n",
            "=================================================================\n",
            " conv2d (Conv2D)             (None, 32, 32, 32)        896       \n",
            "                                                                 \n",
            " activation (Activation)     (None, 32, 32, 32)        0         \n",
            "                                                                 \n",
            " batch_normalization (BatchN  (None, 32, 32, 32)       128       \n",
            " ormalization)                                                   \n",
            "                                                                 \n",
            " conv2d_1 (Conv2D)           (None, 32, 32, 32)        9248      \n",
            "                                                                 \n",
            " activation_1 (Activation)   (None, 32, 32, 32)        0         \n",
            "                                                                 \n",
            " batch_normalization_1 (Batc  (None, 32, 32, 32)       128       \n",
            " hNormalization)                                                 \n",
            "                                                                 \n",
            " max_pooling2d (MaxPooling2D  (None, 16, 16, 32)       0         \n",
            " )                                                               \n",
            "                                                                 \n",
            " dropout (Dropout)           (None, 16, 16, 32)        0         \n",
            "                                                                 \n",
            " conv2d_2 (Conv2D)           (None, 16, 16, 64)        18496     \n",
            "                                                                 \n",
            " activation_2 (Activation)   (None, 16, 16, 64)        0         \n",
            "                                                                 \n",
            " batch_normalization_2 (Batc  (None, 16, 16, 64)       256       \n",
            " hNormalization)                                                 \n",
            "                                                                 \n",
            " conv2d_3 (Conv2D)           (None, 16, 16, 64)        36928     \n",
            "                                                                 \n",
            " activation_3 (Activation)   (None, 16, 16, 64)        0         \n",
            "                                                                 \n",
            " batch_normalization_3 (Batc  (None, 16, 16, 64)       256       \n",
            " hNormalization)                                                 \n",
            "                                                                 \n",
            " max_pooling2d_1 (MaxPooling  (None, 8, 8, 64)         0         \n",
            " 2D)                                                             \n",
            "                                                                 \n",
            " dropout_1 (Dropout)         (None, 8, 8, 64)          0         \n",
            "                                                                 \n",
            " flatten (Flatten)           (None, 4096)              0         \n",
            "                                                                 \n",
            " dense (Dense)               (None, 512)               2097664   \n",
            "                                                                 \n",
            " activation_4 (Activation)   (None, 512)               0         \n",
            "                                                                 \n",
            " batch_normalization_4 (Batc  (None, 512)              2048      \n",
            " hNormalization)                                                 \n",
            "                                                                 \n",
            " dropout_2 (Dropout)         (None, 512)               0         \n",
            "                                                                 \n",
            " dense_1 (Dense)             (None, 10)                5130      \n",
            "                                                                 \n",
            " activation_5 (Activation)   (None, 10)                0         \n",
            "                                                                 \n",
            "=================================================================\n",
            "Total params: 2,171,178\n",
            "Trainable params: 2,169,770\n",
            "Non-trainable params: 1,408\n",
            "_________________________________________________________________\n"
          ]
        }
      ]
    },
    {
      "cell_type": "code",
      "source": [
        "callback_list = [\n",
        "                 keras.callbacks.EarlyStopping(monitor='val_accuracy',patience=5,min_delta=0.001),\n",
        "                 keras.callbacks.ModelCheckpoint(filepath='checkpoint.keras',monitor='val_accuracy',save_best_only=True)   \n",
        "]"
      ],
      "metadata": {
        "id": "3nARqmreiY9l"
      },
      "execution_count": null,
      "outputs": []
    },
    {
      "cell_type": "code",
      "source": [
        "from tensorflow.keras.optimizers import SGD\n",
        "\n",
        "print(\"[INFO] compiling model...\")\n",
        "opt = SGD(learning_rate=0.01, decay=0.01 / 30, momentum=0.9, nesterov=True)\n",
        "model.compile(optimizer=opt,                                    \n",
        "              loss=\"categorical_crossentropy\",                 \n",
        "              metrics=[\"accuracy\"])                                   \n",
        "history = model.fit(x_train, y_train,   batch_size=64,                            \n",
        "          epochs=30,    \n",
        "          callbacks = callback_list,                                             \n",
        "          validation_data=(x_test,y_test))                   #val_images, val_labels\n",
        "test_metrics = model.evaluate(x_test, y_test)               \n",
        "predictions = model.predict(x_test)  "
      ],
      "metadata": {
        "colab": {
          "base_uri": "https://localhost:8080/"
        },
        "id": "pJPiAUcFUUt0",
        "outputId": "7b974c7a-9725-4c25-8585-cfb50c51371f"
      },
      "execution_count": null,
      "outputs": [
        {
          "output_type": "stream",
          "name": "stdout",
          "text": [
            "[INFO] compiling model...\n",
            "Epoch 1/30\n",
            "625/625 [==============================] - 27s 25ms/step - loss: 1.7243 - accuracy: 0.4245 - val_loss: 1.8515 - val_accuracy: 0.4023\n",
            "Epoch 2/30\n",
            "625/625 [==============================] - 15s 24ms/step - loss: 1.2558 - accuracy: 0.5631 - val_loss: 1.0635 - val_accuracy: 0.6282\n",
            "Epoch 3/30\n",
            "625/625 [==============================] - 15s 24ms/step - loss: 1.0569 - accuracy: 0.6294 - val_loss: 1.0007 - val_accuracy: 0.6511\n",
            "Epoch 4/30\n",
            "625/625 [==============================] - 15s 23ms/step - loss: 0.9428 - accuracy: 0.6709 - val_loss: 0.8712 - val_accuracy: 0.6996\n",
            "Epoch 5/30\n",
            "625/625 [==============================] - 15s 23ms/step - loss: 0.8568 - accuracy: 0.6987 - val_loss: 0.8953 - val_accuracy: 0.6893\n",
            "Epoch 6/30\n",
            "625/625 [==============================] - 15s 24ms/step - loss: 0.7995 - accuracy: 0.7177 - val_loss: 0.7705 - val_accuracy: 0.7309\n",
            "Epoch 7/30\n",
            "625/625 [==============================] - 15s 23ms/step - loss: 0.7432 - accuracy: 0.7376 - val_loss: 0.7397 - val_accuracy: 0.7433\n",
            "Epoch 8/30\n",
            "625/625 [==============================] - 15s 23ms/step - loss: 0.7049 - accuracy: 0.7532 - val_loss: 0.7076 - val_accuracy: 0.7558\n",
            "Epoch 9/30\n",
            "625/625 [==============================] - 15s 24ms/step - loss: 0.6675 - accuracy: 0.7626 - val_loss: 0.6764 - val_accuracy: 0.7634\n",
            "Epoch 10/30\n",
            "625/625 [==============================] - 15s 24ms/step - loss: 0.6344 - accuracy: 0.7754 - val_loss: 0.7151 - val_accuracy: 0.7498\n",
            "Epoch 11/30\n",
            "625/625 [==============================] - 15s 24ms/step - loss: 0.6036 - accuracy: 0.7855 - val_loss: 0.6483 - val_accuracy: 0.7782\n",
            "Epoch 12/30\n",
            "625/625 [==============================] - 15s 24ms/step - loss: 0.5815 - accuracy: 0.7923 - val_loss: 0.6869 - val_accuracy: 0.7651\n",
            "Epoch 13/30\n",
            "625/625 [==============================] - 15s 24ms/step - loss: 0.5548 - accuracy: 0.8024 - val_loss: 0.6410 - val_accuracy: 0.7805\n",
            "Epoch 14/30\n",
            "625/625 [==============================] - 15s 24ms/step - loss: 0.5291 - accuracy: 0.8113 - val_loss: 0.6423 - val_accuracy: 0.7840\n",
            "Epoch 15/30\n",
            "625/625 [==============================] - 15s 23ms/step - loss: 0.5136 - accuracy: 0.8188 - val_loss: 0.6306 - val_accuracy: 0.7820\n",
            "Epoch 16/30\n",
            "625/625 [==============================] - 15s 24ms/step - loss: 0.5023 - accuracy: 0.8210 - val_loss: 0.6132 - val_accuracy: 0.7887\n",
            "Epoch 17/30\n",
            "625/625 [==============================] - 15s 24ms/step - loss: 0.4782 - accuracy: 0.8301 - val_loss: 0.6543 - val_accuracy: 0.7789\n",
            "Epoch 18/30\n",
            "625/625 [==============================] - 15s 24ms/step - loss: 0.4628 - accuracy: 0.8347 - val_loss: 0.6196 - val_accuracy: 0.7914\n",
            "Epoch 19/30\n",
            "625/625 [==============================] - 15s 24ms/step - loss: 0.4437 - accuracy: 0.8407 - val_loss: 0.6272 - val_accuracy: 0.7887\n",
            "Epoch 20/30\n",
            "625/625 [==============================] - 15s 24ms/step - loss: 0.4333 - accuracy: 0.8455 - val_loss: 0.6103 - val_accuracy: 0.7942\n",
            "Epoch 21/30\n",
            "625/625 [==============================] - 15s 24ms/step - loss: 0.4150 - accuracy: 0.8514 - val_loss: 0.6110 - val_accuracy: 0.7956\n",
            "Epoch 22/30\n",
            "625/625 [==============================] - 15s 24ms/step - loss: 0.4091 - accuracy: 0.8530 - val_loss: 0.6211 - val_accuracy: 0.7937\n",
            "Epoch 23/30\n",
            "625/625 [==============================] - 15s 24ms/step - loss: 0.3979 - accuracy: 0.8566 - val_loss: 0.6134 - val_accuracy: 0.7994\n",
            "Epoch 24/30\n",
            "625/625 [==============================] - 15s 24ms/step - loss: 0.3862 - accuracy: 0.8617 - val_loss: 0.6053 - val_accuracy: 0.8022\n",
            "Epoch 25/30\n",
            "625/625 [==============================] - 15s 24ms/step - loss: 0.3707 - accuracy: 0.8679 - val_loss: 0.6234 - val_accuracy: 0.7985\n",
            "Epoch 26/30\n",
            "625/625 [==============================] - 15s 23ms/step - loss: 0.3673 - accuracy: 0.8684 - val_loss: 0.6061 - val_accuracy: 0.8011\n",
            "Epoch 27/30\n",
            "625/625 [==============================] - 16s 25ms/step - loss: 0.3579 - accuracy: 0.8720 - val_loss: 0.6214 - val_accuracy: 0.7976\n",
            "Epoch 28/30\n",
            "625/625 [==============================] - 15s 24ms/step - loss: 0.3504 - accuracy: 0.8744 - val_loss: 0.6194 - val_accuracy: 0.7968\n",
            "Epoch 29/30\n",
            "625/625 [==============================] - 15s 23ms/step - loss: 0.3418 - accuracy: 0.8759 - val_loss: 0.6141 - val_accuracy: 0.8003\n",
            "313/313 [==============================] - 2s 6ms/step - loss: 0.6141 - accuracy: 0.8003\n"
          ]
        }
      ]
    },
    {
      "cell_type": "markdown",
      "source": [
        "# Training & Validation charts"
      ],
      "metadata": {
        "id": "n2nUVRAQbR7z"
      }
    },
    {
      "cell_type": "code",
      "source": [
        "# plot the training loss and accuracy\n",
        "import matplotlib.pyplot as plt\n",
        "\n",
        "plt.style.use(\"ggplot\")\n",
        "plt.figure()\n",
        "epoch = len(history.history[\"loss\"])\n",
        "plt.plot(np.arange(0, epoch), history.history[\"loss\"], label=\"train_loss\")\n",
        "plt.plot(np.arange(0, epoch), history.history[\"val_loss\"], label=\"val_loss\")\n",
        "plt.plot(np.arange(0, epoch), history.history[\"accuracy\"], \"--\", label=\"train_acc\", )\n",
        "plt.plot(np.arange(0, epoch), history.history[\"val_accuracy\"], \"--\", label=\"val_acc\")\n",
        "plt.title(\"Training Loss and Accuracy\")\n",
        "plt.xlabel(\"Epoch #\")\n",
        "plt.ylabel(\"Loss/Accuracy\")\n",
        "plt.legend()\n",
        "plt.show()\n"
      ],
      "metadata": {
        "colab": {
          "base_uri": "https://localhost:8080/",
          "height": 299
        },
        "id": "VWxVbCAhZqg7",
        "outputId": "460f72c2-baac-4209-f7af-6f9b2ba34e78"
      },
      "execution_count": null,
      "outputs": [
        {
          "output_type": "display_data",
          "data": {
            "image/png": "[encoded data removed]",
            "text/plain": [
              "<Figure size 432x288 with 1 Axes>"
            ]
          },
          "metadata": {}
        }
      ]
    },
    {
      "cell_type": "markdown",
      "source": [
        "The above graph seems like a canonical overfitting behaviour \n",
        "\n",
        "- It starts off underfitting the data (train loss & val loss) \n",
        "- Roughly around 7-8 epoch seems to be a robust fit\n",
        "- and then on it shows a typical overfitting example where both training & validation lost seperate "
      ],
      "metadata": {
        "id": "WEaAZaJqYTT7"
      }
    },
    {
      "cell_type": "code",
      "source": [
        "test_lose, test_acc =  model.evaluate(x_test,y_test)\n",
        "print(f\"Test accuracy: {test_acc:.3f}\")"
      ],
      "metadata": {
        "id": "6JPBIN7X9BLu",
        "colab": {
          "base_uri": "https://localhost:8080/"
        },
        "outputId": "057bb3d0-11ce-4d12-c9a3-9587caea42a2"
      },
      "execution_count": null,
      "outputs": [
        {
          "output_type": "stream",
          "name": "stdout",
          "text": [
            "313/313 [==============================] - 5s 15ms/step - loss: 0.6141 - accuracy: 0.8003\n",
            "Test accuracy: 0.800\n"
          ]
        }
      ]
    },
    {
      "cell_type": "code",
      "source": [
        ""
      ],
      "metadata": {
        "id": "4I4dE96kaYgZ"
      },
      "execution_count": null,
      "outputs": []
    }
  ]
}