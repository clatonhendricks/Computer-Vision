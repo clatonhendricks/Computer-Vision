{
  "nbformat": 4,
  "nbformat_minor": 0,
  "metadata": {
    "colab": {
      "name": "img_playground.ipynb",
      "provenance": [],
      "collapsed_sections": [],
      "authorship_tag": "ABX9TyOZKzupE4bnTZzleJ2zUBBR",
      "include_colab_link": true
    },
    "kernelspec": {
      "name": "python3",
      "display_name": "Python 3"
    },
    "language_info": {
      "name": "python"
    },
    "accelerator": "GPU"
  },
  "cells": [
    {
      "cell_type": "markdown",
      "metadata": {
        "id": "view-in-github",
        "colab_type": "text"
      },
      "source": [
        "<a href=\"https://colab.research.google.com/github/clatonhendricks/Computer-Vision/blob/main/Keras-TF/cifar10.ipynb\" target=\"_parent\"><img src=\"https://colab.research.google.com/assets/colab-badge.svg\" alt=\"Open In Colab\"/></a>"
      ]
    },
    {
      "cell_type": "code",
      "execution_count": null,
      "metadata": {
        "id": "49_cbjwXH2Qj"
      },
      "outputs": [],
      "source": [
        "import tensorflow as tf\n",
        "from tensorflow import keras\n",
        "import tensorflow.keras.datasets as kfdatasets\n",
        "from sklearn.preprocessing import LabelBinarizer\n",
        "\n",
        "import numpy as np"
      ]
    },
    {
      "cell_type": "code",
      "source": [
        "tf.__version__"
      ],
      "metadata": {
        "colab": {
          "base_uri": "https://localhost:8080/",
          "height": 35
        },
        "id": "W0r7C7IaIN7e",
        "outputId": "86a8dd33-dca6-4850-cf5d-b6c43c2c0a24"
      },
      "execution_count": null,
      "outputs": [
        {
          "output_type": "execute_result",
          "data": {
            "application/vnd.google.colaboratory.intrinsic+json": {
              "type": "string"
            },
            "text/plain": [
              "'2.8.0'"
            ]
          },
          "metadata": {},
          "execution_count": 2
        }
      ]
    },
    {
      "cell_type": "code",
      "source": [
        "# (images, labels), (test_images, test_labels) =kfdatasets.mnist.load_data()  \n",
        "# images.shape"
      ],
      "metadata": {
        "colab": {
          "base_uri": "https://localhost:8080/"
        },
        "id": "moYc6DnQcIBH",
        "outputId": "77521023-a53b-4afb-a57a-551cf5c7df31"
      },
      "execution_count": null,
      "outputs": [
        {
          "output_type": "stream",
          "name": "stdout",
          "text": [
            "Downloading data from https://storage.googleapis.com/tensorflow/tf-keras-datasets/mnist.npz\n",
            "11493376/11490434 [==============================] - 0s 0us/step\n",
            "11501568/11490434 [==============================] - 0s 0us/step\n"
          ]
        },
        {
          "output_type": "execute_result",
          "data": {
            "text/plain": [
              "(60000, 28, 28)"
            ]
          },
          "metadata": {},
          "execution_count": 3
        }
      ]
    },
    {
      "cell_type": "code",
      "source": [
        "(x_train, y_train), (x_test, y_test)  = kfdatasets.cifar10.load_data()\n",
        "(x_train.shape),(y_train.shape),(x_test.shape) ,(y_test.shape)  \n"
      ],
      "metadata": {
        "colab": {
          "base_uri": "https://localhost:8080/"
        },
        "id": "y1DWIUyKITYQ",
        "outputId": "9fb51623-86ec-47f2-9805-858a61247120"
      },
      "execution_count": null,
      "outputs": [
        {
          "output_type": "stream",
          "name": "stdout",
          "text": [
            "Downloading data from https://www.cs.toronto.edu/~kriz/cifar-10-python.tar.gz\n",
            "170500096/170498071 [==============================] - 3s 0us/step\n",
            "170508288/170498071 [==============================] - 3s 0us/step\n"
          ]
        },
        {
          "output_type": "execute_result",
          "data": {
            "text/plain": [
              "((50000, 32, 32, 3), (50000, 1), (10000, 32, 32, 3), (10000, 1))"
            ]
          },
          "metadata": {},
          "execution_count": 2
        }
      ]
    },
    {
      "cell_type": "code",
      "source": [
        "#convert integers to labels\n",
        "\n"
      ],
      "metadata": {
        "id": "xi1RmDEcOSM4"
      },
      "execution_count": null,
      "outputs": []
    },
    {
      "cell_type": "code",
      "source": [
        "#change to float\n",
        "#x_train = x_train.reshape((50000, 32*32*3)).astype('float32')/255\n",
        "x_train = x_train.astype('float')/255\n",
        "x_test = x_test.astype('float')/255\n",
        "\n",
        "print((x_train.shape), (x_test.shape))\n",
        "\n",
        "#convert integers to labels\n",
        "lb = LabelBinarizer()\n",
        "y_train = lb.fit_transform(y_train)\n",
        "y_test = lb.fit_transform(y_test)\n",
        "\n",
        "#split into validations\n",
        "x_train, val_images = x_train[10000:], x_train[:10000]\n",
        "y_train, val_labels = y_train[10000:], y_train[:10000]\n",
        "\n",
        "(x_train.shape),(y_train.shape),(val_images.shape), (val_labels.shape)"
      ],
      "metadata": {
        "id": "G46ijwQaIXxI",
        "colab": {
          "base_uri": "https://localhost:8080/"
        },
        "outputId": "899df8d3-7725-4d2b-9bbb-ceb4cd4bfd95"
      },
      "execution_count": null,
      "outputs": [
        {
          "output_type": "stream",
          "name": "stdout",
          "text": [
            "(50000, 32, 32, 3) (10000, 32, 32, 3)\n"
          ]
        },
        {
          "output_type": "execute_result",
          "data": {
            "text/plain": [
              "((40000, 32, 32, 3), (40000, 10), (10000, 32, 32, 3), (10000, 10))"
            ]
          },
          "metadata": {},
          "execution_count": 3
        }
      ]
    },
    {
      "cell_type": "code",
      "source": [
        "from tensorflow.keras.models import Sequential\n",
        "from tensorflow.keras.layers import BatchNormalization\n",
        "from tensorflow.keras.layers import Conv2D\n",
        "from tensorflow.keras.layers import MaxPooling2D\n",
        "from tensorflow.keras.layers import Activation\n",
        "from tensorflow.keras.layers import Flatten\n",
        "from tensorflow.keras.layers import Dropout\n",
        "from tensorflow.keras.layers import Dense\n",
        "from tensorflow.keras import backend as K\n",
        "\n",
        "class MiniVGGNet:\n",
        "    @staticmethod\n",
        "    def build(width, height, depth, classes):\n",
        "        # initialize the model along with the input shape to be\n",
        "        # \"channels last\" and the channels dimension itself\n",
        "        model = Sequential()\n",
        "        inputShape = (height, width, depth)\n",
        "        chanDim = -1\n",
        "        # if we are using \"channels first\", update the input shape\n",
        "        # and channels dimension\n",
        "        if K.image_data_format() == \"channels_first\":\n",
        "            inputShape = (depth, height, width)\n",
        "            chanDim = 1\n",
        "        \n",
        "\t\t# first CONV => RELU => CONV => RELU => POOL layer set\n",
        "        model.add(Conv2D(32, (3, 3), padding=\"same\",\n",
        "            input_shape=inputShape))\n",
        "        model.add(Activation(\"relu\"))\n",
        "        model.add(BatchNormalization(axis=chanDim))\n",
        "        model.add(Conv2D(32, (3, 3), padding=\"same\"))\n",
        "        model.add(Activation(\"relu\"))\n",
        "        model.add(BatchNormalization(axis=chanDim))\n",
        "        model.add(MaxPooling2D(pool_size=(2, 2)))\n",
        "        model.add(Dropout(0.25))\n",
        "        \n",
        "\t   # second CONV => RELU => CONV => RELU => POOL layer set\n",
        "        model.add(Conv2D(64, (3, 3), padding=\"same\"))\n",
        "        model.add(Activation(\"relu\"))\n",
        "        model.add(BatchNormalization(axis=chanDim))\n",
        "        model.add(Conv2D(64, (3, 3), padding=\"same\"))\n",
        "        model.add(Activation(\"relu\"))\n",
        "        model.add(BatchNormalization(axis=chanDim))\n",
        "        model.add(MaxPooling2D(pool_size=(2, 2)))\n",
        "        model.add(Dropout(0.25))\n",
        "\n",
        "        # first (and only) set of FC => RELU layers\n",
        "        model.add(Flatten())\n",
        "        model.add(Dense(512))\n",
        "        model.add(Activation(\"relu\"))\n",
        "        model.add(BatchNormalization())\n",
        "        model.add(Dropout(0.5))\n",
        "        # softmax classifier\n",
        "        model.add(Dense(classes))\n",
        "        model.add(Activation(\"softmax\"))\n",
        "        # return the constructed network architecture\n",
        "        return model\n"
      ],
      "metadata": {
        "id": "ranzPRAAoLmT"
      },
      "execution_count": null,
      "outputs": []
    },
    {
      "cell_type": "code",
      "source": [
        "# create the model\n",
        "\n",
        "def get_cifar_model():\n",
        "    input = keras.Input(shape=(32*32*3,))\n",
        "    features = keras.layers.Dense(512,activation='relu')(input)\n",
        "    features = keras.layers.Dropout(0.5)(features)\n",
        "    features = keras.layers.Dense(256,activation='relu')(features)\n",
        "    features = keras.layers.Dropout(0.5)(features)\n",
        "    outputs = keras.layers.Dense(10, activation='softmax')(features)\n",
        "\n",
        "    model = keras.Model(input, outputs)\n",
        "\n",
        "    return model\n",
        "\n",
        "model = get_cifar_model()\n",
        "\n"
      ],
      "metadata": {
        "id": "TKSJN-GbWgTN"
      },
      "execution_count": null,
      "outputs": []
    },
    {
      "cell_type": "code",
      "source": [
        ""
      ],
      "metadata": {
        "colab": {
          "base_uri": "https://localhost:8080/"
        },
        "id": "piHtz3Qm6_4_",
        "outputId": "b38090e2-b474-401b-b5ec-adba58d9e45b"
      },
      "execution_count": null,
      "outputs": [
        {
          "output_type": "execute_result",
          "data": {
            "text/plain": [
              "10"
            ]
          },
          "metadata": {},
          "execution_count": 13
        }
      ]
    },
    {
      "cell_type": "code",
      "source": [
        "# using customVGGnet\n",
        "\n",
        "model = MiniVGGNet.build(32,32,3,10)\n",
        "model.summary()\n"
      ],
      "metadata": {
        "id": "rUrSkynAoy9R",
        "colab": {
          "base_uri": "https://localhost:8080/"
        },
        "outputId": "b549c69c-7c4d-40c9-b731-6beb90670e09"
      },
      "execution_count": null,
      "outputs": [
        {
          "output_type": "stream",
          "name": "stdout",
          "text": [
            "Model: \"sequential\"\n",
            "_________________________________________________________________\n",
            " Layer (type)                Output Shape              Param #   \n",
            "=================================================================\n",
            " conv2d (Conv2D)             (None, 32, 32, 32)        896       \n",
            "                                                                 \n",
            " activation (Activation)     (None, 32, 32, 32)        0         \n",
            "                                                                 \n",
            " batch_normalization (BatchN  (None, 32, 32, 32)       128       \n",
            " ormalization)                                                   \n",
            "                                                                 \n",
            " conv2d_1 (Conv2D)           (None, 32, 32, 32)        9248      \n",
            "                                                                 \n",
            " activation_1 (Activation)   (None, 32, 32, 32)        0         \n",
            "                                                                 \n",
            " batch_normalization_1 (Batc  (None, 32, 32, 32)       128       \n",
            " hNormalization)                                                 \n",
            "                                                                 \n",
            " max_pooling2d (MaxPooling2D  (None, 16, 16, 32)       0         \n",
            " )                                                               \n",
            "                                                                 \n",
            " dropout_2 (Dropout)         (None, 16, 16, 32)        0         \n",
            "                                                                 \n",
            " conv2d_2 (Conv2D)           (None, 16, 16, 64)        18496     \n",
            "                                                                 \n",
            " activation_2 (Activation)   (None, 16, 16, 64)        0         \n",
            "                                                                 \n",
            " batch_normalization_2 (Batc  (None, 16, 16, 64)       256       \n",
            " hNormalization)                                                 \n",
            "                                                                 \n",
            " conv2d_3 (Conv2D)           (None, 16, 16, 64)        36928     \n",
            "                                                                 \n",
            " activation_3 (Activation)   (None, 16, 16, 64)        0         \n",
            "                                                                 \n",
            " batch_normalization_3 (Batc  (None, 16, 16, 64)       256       \n",
            " hNormalization)                                                 \n",
            "                                                                 \n",
            " max_pooling2d_1 (MaxPooling  (None, 8, 8, 64)         0         \n",
            " 2D)                                                             \n",
            "                                                                 \n",
            " dropout_3 (Dropout)         (None, 8, 8, 64)          0         \n",
            "                                                                 \n",
            " flatten (Flatten)           (None, 4096)              0         \n",
            "                                                                 \n",
            " dense_3 (Dense)             (None, 512)               2097664   \n",
            "                                                                 \n",
            " activation_4 (Activation)   (None, 512)               0         \n",
            "                                                                 \n",
            " batch_normalization_4 (Batc  (None, 512)              2048      \n",
            " hNormalization)                                                 \n",
            "                                                                 \n",
            " dropout_4 (Dropout)         (None, 512)               0         \n",
            "                                                                 \n",
            " dense_4 (Dense)             (None, 10)                5130      \n",
            "                                                                 \n",
            " activation_5 (Activation)   (None, 10)                0         \n",
            "                                                                 \n",
            "=================================================================\n",
            "Total params: 2,171,178\n",
            "Trainable params: 2,169,770\n",
            "Non-trainable params: 1,408\n",
            "_________________________________________________________________\n"
          ]
        }
      ]
    },
    {
      "cell_type": "code",
      "source": [
        "callback_list = [\n",
        "                 keras.callbacks.EarlyStopping(monitor='val_accuracy',patience=5,min_delta=0.001),\n",
        "                 keras.callbacks.ModelCheckpoint(filepath='checkpoint.keras',monitor='val_accuracy',save_best_only=True)   \n",
        "]"
      ],
      "metadata": {
        "id": "3nARqmreiY9l"
      },
      "execution_count": null,
      "outputs": []
    },
    {
      "cell_type": "code",
      "source": [
        "from tensorflow.keras.optimizers import SGD\n",
        "\n",
        "print(\"[INFO] compiling model...\")\n",
        "opt = SGD(learning_rate=0.01, decay=0.01 / 30, momentum=0.9, nesterov=True)\n",
        "model.compile(optimizer=opt,                                    \n",
        "              loss=\"categorical_crossentropy\",                 \n",
        "              metrics=[\"accuracy\"])                                   \n",
        "history = model.fit(x_train, y_train,   batch_size=64,                            \n",
        "          epochs=30,    \n",
        "          callbacks = callback_list,                                             \n",
        "          validation_data=(x_test,y_test))                   #val_images, val_labels\n",
        "test_metrics = model.evaluate(x_test, y_test)               \n",
        "predictions = model.predict(x_test)  "
      ],
      "metadata": {
        "colab": {
          "base_uri": "https://localhost:8080/"
        },
        "id": "pJPiAUcFUUt0",
        "outputId": "fb989711-b181-40dc-8f56-49209aff0f42"
      },
      "execution_count": null,
      "outputs": [
        {
          "output_type": "stream",
          "name": "stdout",
          "text": [
            "[INFO] compiling model...\n",
            "Epoch 1/30\n",
            "625/625 [==============================] - 9s 13ms/step - loss: 0.5960 - accuracy: 0.7904 - val_loss: 0.7091 - val_accuracy: 0.7576\n",
            "Epoch 2/30\n",
            "625/625 [==============================] - 5s 9ms/step - loss: 0.5569 - accuracy: 0.8025 - val_loss: 0.6454 - val_accuracy: 0.7810\n",
            "Epoch 3/30\n",
            "625/625 [==============================] - 6s 9ms/step - loss: 0.4913 - accuracy: 0.8254 - val_loss: 0.6645 - val_accuracy: 0.7828\n",
            "Epoch 4/30\n",
            "625/625 [==============================] - 6s 9ms/step - loss: 0.4501 - accuracy: 0.8401 - val_loss: 0.6287 - val_accuracy: 0.7968\n",
            "Epoch 5/30\n",
            "625/625 [==============================] - 6s 9ms/step - loss: 0.4149 - accuracy: 0.8529 - val_loss: 0.6139 - val_accuracy: 0.7993\n",
            "Epoch 6/30\n",
            "625/625 [==============================] - 6s 9ms/step - loss: 0.3887 - accuracy: 0.8635 - val_loss: 0.6126 - val_accuracy: 0.8031\n",
            "Epoch 7/30\n",
            "625/625 [==============================] - 6s 9ms/step - loss: 0.3588 - accuracy: 0.8716 - val_loss: 0.6143 - val_accuracy: 0.8016\n",
            "Epoch 8/30\n",
            "625/625 [==============================] - 6s 9ms/step - loss: 0.3419 - accuracy: 0.8782 - val_loss: 0.6022 - val_accuracy: 0.8049\n",
            "Epoch 9/30\n",
            "625/625 [==============================] - 6s 9ms/step - loss: 0.3232 - accuracy: 0.8843 - val_loss: 0.6093 - val_accuracy: 0.8083\n",
            "Epoch 10/30\n",
            "625/625 [==============================] - 6s 9ms/step - loss: 0.3090 - accuracy: 0.8888 - val_loss: 0.6008 - val_accuracy: 0.8111\n",
            "Epoch 11/30\n",
            "625/625 [==============================] - 6s 10ms/step - loss: 0.2841 - accuracy: 0.8978 - val_loss: 0.6066 - val_accuracy: 0.8086\n",
            "Epoch 12/30\n",
            "625/625 [==============================] - 6s 9ms/step - loss: 0.2734 - accuracy: 0.8994 - val_loss: 0.6000 - val_accuracy: 0.8084\n",
            "313/313 [==============================] - 1s 3ms/step - loss: 0.6000 - accuracy: 0.8084\n"
          ]
        }
      ]
    },
    {
      "cell_type": "code",
      "source": [
        "len(history.history[\"loss\"])"
      ],
      "metadata": {
        "colab": {
          "base_uri": "https://localhost:8080/"
        },
        "id": "pJsmefhrkMOI",
        "outputId": "c8cf746b-73c8-48c0-a5f7-93ebbb887d7a"
      },
      "execution_count": null,
      "outputs": [
        {
          "output_type": "execute_result",
          "data": {
            "text/plain": [
              "15"
            ]
          },
          "metadata": {},
          "execution_count": 15
        }
      ]
    },
    {
      "cell_type": "code",
      "source": [
        "# plot the training loss and accuracy\n",
        "import matplotlib.pyplot as plt\n",
        "\n",
        "plt.style.use(\"ggplot\")\n",
        "plt.figure()\n",
        "epoch = len(history.history[\"loss\"])\n",
        "plt.plot(np.arange(0, epoch), history.history[\"loss\"], label=\"train_loss\")\n",
        "plt.plot(np.arange(0, epoch), history.history[\"val_loss\"], label=\"val_loss\")\n",
        "plt.plot(np.arange(0, epoch), history.history[\"accuracy\"], \"--\", label=\"train_acc\", )\n",
        "plt.plot(np.arange(0, epoch), history.history[\"val_accuracy\"], \"--\", label=\"val_acc\")\n",
        "plt.title(\"Training Loss and Accuracy\")\n",
        "plt.xlabel(\"Epoch #\")\n",
        "plt.ylabel(\"Loss/Accuracy\")\n",
        "plt.legend()\n",
        "plt.show()\n"
      ],
      "metadata": {
        "colab": {
          "base_uri": "https://localhost:8080/",
          "height": 299
        },
        "id": "VWxVbCAhZqg7",
        "outputId": "54bacec9-0a59-47cd-9d74-83360f159892"
      },
      "execution_count": null,
      "outputs": [
        {
          "output_type": "display_data",
          "data": {
            "image/png": "[encoded data removed]",
            "text/plain": [
              "<Figure size 432x288 with 1 Axes>"
            ]
          },
          "metadata": {}
        }
      ]
    },
    {
      "cell_type": "code",
      "source": [
        "import matplotlib.pyplot as plt\n",
        "\n",
        "plt.style.use(\"ggplot\")\n",
        "plt.figure()\n",
        "epoch = len(history.history[\"loss\"])\n",
        "plt.plot(np.arange(0, epoch), history.history[\"loss\"], label=\"train_loss\")\n",
        "plt.plot(np.arange(0, epoch), history.history[\"val_loss\"], label=\"val_loss\")\n",
        "plt.plot(np.arange(0, epoch), history.history[\"accuracy\"], \"--\", label=\"train_acc\", )\n",
        "plt.plot(np.arange(0, epoch), history.history[\"val_accuracy\"], \"--\", label=\"val_acc\")\n",
        "plt.title(\"Training Loss and Accuracy\")\n",
        "plt.xlabel(\"Epoch #\")\n",
        "plt.ylabel(\"Loss/Accuracy\")\n",
        "plt.legend()\n",
        "plt.show()\n"
      ],
      "metadata": {
        "id": "WqqW9BtzeI7v",
        "colab": {
          "base_uri": "https://localhost:8080/",
          "height": 299
        },
        "outputId": "0f3743ac-b45b-4027-f7be-76f1957e336a"
      },
      "execution_count": null,
      "outputs": [
        {
          "output_type": "display_data",
          "data": {
            "image/png": "[encoded data removed]",
            "text/plain": [
              "<Figure size 432x288 with 1 Axes>"
            ]
          },
          "metadata": {}
        }
      ]
    },
    {
      "cell_type": "code",
      "source": [
        ""
      ],
      "metadata": {
        "id": "6JPBIN7X9BLu"
      },
      "execution_count": null,
      "outputs": []
    }
  ]
}
